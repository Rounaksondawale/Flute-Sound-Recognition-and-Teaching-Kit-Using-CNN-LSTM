{
 "cells": [
  {
   "cell_type": "markdown",
   "metadata": {},
   "source": [
    "## Import Necessary Libraries"
   ]
  },
  {
   "cell_type": "code",
   "execution_count": 1,
   "metadata": {},
   "outputs": [],
   "source": [
    "import os\n",
    "import librosa\n",
    "import pandas as pd\n",
    "import matplotlib.pyplot as plt"
   ]
  },
  {
   "cell_type": "markdown",
   "metadata": {},
   "source": [
    "## Access Audio Files"
   ]
  },
  {
   "cell_type": "code",
   "execution_count": 2,
   "metadata": {},
   "outputs": [],
   "source": [
    "main_path = r\"C:\\Resume_projects\\flute_teaching_kit\\data\\notes\"\n",
    "notes = [f for f in os.listdir(main_path) if os.path.isdir(os.path.join(main_path, f))]"
   ]
  },
  {
   "cell_type": "code",
   "execution_count": 3,
   "metadata": {},
   "outputs": [
    {
     "data": {
      "text/plain": [
       "['dha', 'ga', 'ma', 'ni', 'pa', 're', 'sa', \"sa'\"]"
      ]
     },
     "execution_count": 3,
     "metadata": {},
     "output_type": "execute_result"
    }
   ],
   "source": [
    "notes"
   ]
  },
  {
   "cell_type": "markdown",
   "metadata": {},
   "source": [
    "## Number of Samples"
   ]
  },
  {
   "cell_type": "code",
   "execution_count": 4,
   "metadata": {},
   "outputs": [
    {
     "name": "stdout",
     "output_type": "stream",
     "text": [
      "number of dha :  147\n",
      "number of ga :  136\n",
      "number of ma :  130\n",
      "number of ni :  145\n",
      "number of pa :  137\n",
      "number of re :  145\n",
      "number of sa :  137\n",
      "number of sa' :  145\n",
      "-----\n",
      "mean notes :  140.25\n"
     ]
    }
   ],
   "source": [
    "total = 0\n",
    "\n",
    "for note in notes:\n",
    "\n",
    "    notes_path = os.path.join(main_path, note)\n",
    "    audios = os.listdir(notes_path)\n",
    "\n",
    "    count = 0\n",
    "    for audio in audios:\n",
    "        audio_path = os.path.join(notes_path, audio)\n",
    "        y, sr = librosa.load(audio_path)\n",
    "\n",
    "        raw_series = pd.Series(y)\n",
    "        intervals = librosa.effects.split(y, top_db=20)\n",
    "        count += len(intervals)\n",
    "        total += len(intervals)\n",
    "\n",
    "    print(f\"number of {note} : \", count)\n",
    "\n",
    "print(\"-----\")\n",
    "print(\"mean notes : \", total/len(notes))"
   ]
  },
  {
   "cell_type": "markdown",
   "metadata": {},
   "source": [
    "## Mean Sample Size"
   ]
  },
  {
   "cell_type": "code",
   "execution_count": 5,
   "metadata": {},
   "outputs": [
    {
     "name": "stdout",
     "output_type": "stream",
     "text": [
      "mean dha sample size :  65147\n",
      "mean ga sample size :  64967\n",
      "mean ma sample size :  59794\n",
      "mean ni sample size :  67510\n",
      "mean pa sample size :  66966\n",
      "mean re sample size :  60610\n",
      "mean sa sample size :  68710\n",
      "mean sa' sample size :  77387\n",
      "-----\n",
      "mean sample size :  66283\n"
     ]
    }
   ],
   "source": [
    "sum = 0\n",
    "samples = 0\n",
    "\n",
    "for note in notes:\n",
    "\n",
    "    notes_path = os.path.join(main_path, note)\n",
    "    audios = os.listdir(notes_path)\n",
    "\n",
    "    total = 0\n",
    "    n_samples = 0\n",
    "\n",
    "    for audio in audios:\n",
    "        audio_path = os.path.join(notes_path, audio)\n",
    "        y, sr = librosa.load(audio_path)\n",
    "\n",
    "        raw_series = pd.Series(y)\n",
    "        intervals = librosa.effects.split(y, top_db=20)\n",
    "\n",
    "        for interval in intervals:\n",
    "            total += interval[1] - interval[0]\n",
    "\n",
    "        n_samples = len(intervals)\n",
    "\n",
    "    print(f'mean {note} sample size : ', total // n_samples)\n",
    "    sum += total\n",
    "    samples += n_samples\n",
    "\n",
    "mean_sample_size = sum//samples\n",
    "print(\"-----\")\n",
    "print(\"mean sample size : \", mean_sample_size)"
   ]
  },
  {
   "cell_type": "code",
   "execution_count": null,
   "metadata": {},
   "outputs": [],
   "source": []
  }
 ],
 "metadata": {
  "kernelspec": {
   "display_name": "Python 3",
   "language": "python",
   "name": "python3"
  },
  "language_info": {
   "codemirror_mode": {
    "name": "ipython",
    "version": 3
   },
   "file_extension": ".py",
   "mimetype": "text/x-python",
   "name": "python",
   "nbconvert_exporter": "python",
   "pygments_lexer": "ipython3",
   "version": "3.11.5"
  }
 },
 "nbformat": 4,
 "nbformat_minor": 2
}
